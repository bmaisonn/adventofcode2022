{
 "cells": [
  {
   "cell_type": "code",
   "execution_count": 16,
   "metadata": {},
   "outputs": [],
   "source": [
    "from __future__ import annotations\n",
    "from dataclasses import dataclass, field\n",
    "\n",
    "from typing import Optional, List\n",
    "\n",
    "@dataclass\n",
    "class File:\n",
    "    name : str\n",
    "    size : int\n",
    "\n",
    "\n",
    "@dataclass\n",
    "class Directory:\n",
    "    path: str\n",
    "    parent_directory: Directory = None \n",
    "    subdirectories : List[Directory] = field(default_factory=list)\n",
    "    files : List[File] = field(default_factory=list)\n",
    "\n",
    "    def size(self):\n",
    "        return sum((f.size for f in self.files)) + sum(d.size() for d in self.subdirectories)\n",
    "\n",
    "\n"
   ]
  },
  {
   "cell_type": "code",
   "execution_count": 52,
   "metadata": {},
   "outputs": [
    {
     "name": "stdout",
     "output_type": "stream",
     "text": [
      "/lnj\n",
      "/nhb\n",
      "/ccsfm\n",
      "/jlpbbds\n",
      "/nzcnb\n",
      "/snq\n",
      "/tmjnvcbl\n",
      "/gclzbvt\n",
      "/jtfddbs\n",
      "/lsss\n",
      "/cqmbtj\n",
      "/nsq\n",
      "/fwfcmfbz\n",
      "/jqz\n",
      "/nrmp\n",
      "/gbhcnts\n",
      "/qdsrs\n",
      "/frlj\n",
      "/ljvwzj\n",
      "/stt\n",
      "/tfpl\n",
      "/wpfj\n",
      "/gbhcnts\n",
      "/cthptwcf\n",
      "/qtbprrq\n",
      "/tvhz\n",
      "/ndgqtvhg\n",
      "/sljbrmhb\n",
      "/stp\n",
      "/ppqjzln\n"
     ]
    }
   ],
   "source": [
    "from lib.utils import iter_file\n",
    "\n",
    "\n",
    "class Interpreter:\n",
    "    def __init__(self) -> None:\n",
    "        self.current_directory : Optional[Directory] = None\n",
    "        self.root = None\n",
    "    \n",
    "    def parse(self, l : str) -> None:\n",
    "        if l.startswith('$'):\n",
    "            self.parse_command(l[2:])\n",
    "        else:\n",
    "            self.parse_output(l)\n",
    "        \n",
    "    def parse_cd(self, l : str) -> None:\n",
    "        path = l[3:]\n",
    "        if path == '..':\n",
    "            if self.current_directory.parent_directory is not None:\n",
    "                self.current_directory = self.current_directory.parent_directory\n",
    "        elif path.startswith('/'):\n",
    "            self.current_directory = Directory(path)\n",
    "            if path == '/':\n",
    "                self.root = self.current_directory\n",
    "        else:\n",
    "            d = Directory(f'{self.current_directory.path}/{path}', parent_directory=self.current_directory)\n",
    "            self.current_directory.subdirectories.append(d)\n",
    "            self.current_directory = d\n",
    "\n",
    "    def parse_command(self, l : str) -> None:\n",
    "        if l.startswith('cd'):\n",
    "            self.parse_cd(l)\n",
    "        elif l.startswith('ls'):\n",
    "            ...\n",
    "\n",
    "    def parse_output(self, l : str) -> None:\n",
    "        if l.startswith('dir'):\n",
    "            return\n",
    "        file_size, file_name = l.split(\" \")\n",
    "        self.current_directory.files.append(File(file_name, int(file_size)))\n",
    "\n",
    "\n",
    "interpreter = Interpreter()\n",
    "for l in iter_file('../day7.txt'):\n",
    "    interpreter.parse(l)\n",
    "\n",
    "big_dirs = []\n",
    "\n",
    "def find_big_dirs(root : Directory, big_dirs : list[Directory]):\n",
    "    for d in root.subdirectories:\n",
    "        if d.size() <= 100000:\n",
    "            big_dirs.append(d)\n",
    "        find_big_dirs(d, big_dirs)\n",
    "\n",
    "find_big_dirs(interpreter.root, big_dirs)"
   ]
  },
  {
   "cell_type": "code",
   "execution_count": 53,
   "metadata": {},
   "outputs": [
    {
     "data": {
      "text/plain": [
       "1490523"
      ]
     },
     "execution_count": 53,
     "metadata": {},
     "output_type": "execute_result"
    }
   ],
   "source": [
    "sum((d.size() for d in big_dirs))"
   ]
  },
  {
   "cell_type": "code",
   "execution_count": 54,
   "metadata": {},
   "outputs": [],
   "source": [
    "TOTAL_SIZE = 70000000\n",
    "MIN_SIZE = 30000000"
   ]
  },
  {
   "cell_type": "code",
   "execution_count": 55,
   "metadata": {},
   "outputs": [],
   "source": [
    "remaining = TOTAL_SIZE - interpreter.root.size()"
   ]
  },
  {
   "cell_type": "code",
   "execution_count": 56,
   "metadata": {},
   "outputs": [],
   "source": [
    "min_folder_size_to_delete = MIN_SIZE - remaining"
   ]
  },
  {
   "cell_type": "code",
   "execution_count": 57,
   "metadata": {},
   "outputs": [
    {
     "data": {
      "text/plain": [
       "9192532"
      ]
     },
     "execution_count": 57,
     "metadata": {},
     "output_type": "execute_result"
    }
   ],
   "source": [
    "min_folder_size_to_delete"
   ]
  },
  {
   "cell_type": "code",
   "execution_count": 58,
   "metadata": {},
   "outputs": [],
   "source": [
    "\n",
    "def find_min_folder_to_delete(root : Directory) -> Directory:\n",
    "        \n",
    "    directory_to_delete = root  if root.size() >= min_folder_size_to_delete else None\n",
    "    for d in root.subdirectories:\n",
    "        curr_dir = find_min_folder_to_delete(d)\n",
    "        if not directory_to_delete or curr_dir and curr_dir.size() < directory_to_delete.size():\n",
    "            directory_to_delete = curr_dir\n",
    "    return directory_to_delete \n",
    "            \n",
    "\n"
   ]
  },
  {
   "cell_type": "code",
   "execution_count": 60,
   "metadata": {},
   "outputs": [
    {
     "data": {
      "text/plain": [
       "12390492"
      ]
     },
     "execution_count": 60,
     "metadata": {},
     "output_type": "execute_result"
    }
   ],
   "source": [
    "\n",
    "find_min_folder_to_delete(interpreter.root).size()"
   ]
  },
  {
   "cell_type": "code",
   "execution_count": 39,
   "metadata": {},
   "outputs": [],
   "source": [
    "current_deletion"
   ]
  },
  {
   "cell_type": "code",
   "execution_count": null,
   "metadata": {},
   "outputs": [],
   "source": []
  }
 ],
 "metadata": {
  "kernelspec": {
   "display_name": "Python 3.9.5 ('env')",
   "language": "python",
   "name": "python3"
  },
  "language_info": {
   "codemirror_mode": {
    "name": "ipython",
    "version": 3
   },
   "file_extension": ".py",
   "mimetype": "text/x-python",
   "name": "python",
   "nbconvert_exporter": "python",
   "pygments_lexer": "ipython3",
   "version": "3.9.5"
  },
  "orig_nbformat": 4,
  "vscode": {
   "interpreter": {
    "hash": "e5f0dee52dea0dc91edc544c8eee2cdf5b4489d19031128095f68e7dd121069b"
   }
  }
 },
 "nbformat": 4,
 "nbformat_minor": 2
}
