{
 "cells": [
  {
   "cell_type": "code",
   "execution_count": 11,
   "metadata": {},
   "outputs": [],
   "source": [
    "from lib.utils import iter_file\n",
    "\n",
    "from collections import defaultdict\n",
    "\n",
    "def get_priority(c : str) -> int:\n",
    "\n",
    "    if c.lower() == c:\n",
    "        return ord(c) - ord('a') + 1\n",
    "    else:\n",
    "        return ord(c) - ord('A') + 26 + 1\n",
    "\n",
    "def solve_part1():\n",
    "    score = 0\n",
    "    for l in iter_file('../day3.txt'):\n",
    "        rugsack_size = len(l)\n",
    "\n",
    "        part1 = l[:rugsack_size//2]\n",
    "        part2 = l[rugsack_size//2:]\n",
    "\n",
    "        common_items = defaultdict(set)\n",
    "\n",
    "        for c in part1:\n",
    "            common_items[c].add(1)\n",
    "        for c in part2:\n",
    "            common_items[c].add(2)\n",
    "\n",
    "        for c, parts in common_items.items():\n",
    "            if len(parts) == 2:\n",
    "                score += get_priority(c)\n",
    "    return score\n",
    "\n"
   ]
  },
  {
   "cell_type": "code",
   "execution_count": 29,
   "metadata": {},
   "outputs": [],
   "source": [
    "class RugSackGroup:\n",
    "    def __init__(self):\n",
    "        self.group = []\n",
    "        self.score = 0\n",
    "\n",
    "    def add(self, rugsack):\n",
    "        self.group.append(set(rugsack))\n",
    "        if len(self.group) < 3:\n",
    "            return 0\n",
    "\n",
    "        common_elements = self.group[0] & self.group[1] & self.group[2]\n",
    "        self.group.clear()\n",
    "        self.score += get_priority(common_elements.pop())\n"
   ]
  },
  {
   "cell_type": "code",
   "execution_count": 30,
   "metadata": {},
   "outputs": [
    {
     "name": "stdout",
     "output_type": "stream",
     "text": [
      "2545\n"
     ]
    }
   ],
   "source": [
    "current_group = RugSackGroup()\n",
    "for l in iter_file('../day3.txt'):\n",
    "    current_group.add(l)\n",
    "\n",
    "print(current_group.score)        "
   ]
  },
  {
   "cell_type": "code",
   "execution_count": null,
   "metadata": {},
   "outputs": [],
   "source": []
  }
 ],
 "metadata": {
  "kernelspec": {
   "display_name": "Python 3.9.5 ('env')",
   "language": "python",
   "name": "python3"
  },
  "language_info": {
   "codemirror_mode": {
    "name": "ipython",
    "version": 3
   },
   "file_extension": ".py",
   "mimetype": "text/x-python",
   "name": "python",
   "nbconvert_exporter": "python",
   "pygments_lexer": "ipython3",
   "version": "3.9.5"
  },
  "orig_nbformat": 4,
  "vscode": {
   "interpreter": {
    "hash": "e5f0dee52dea0dc91edc544c8eee2cdf5b4489d19031128095f68e7dd121069b"
   }
  }
 },
 "nbformat": 4,
 "nbformat_minor": 2
}
