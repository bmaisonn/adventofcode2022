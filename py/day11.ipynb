{
 "cells": [
  {
   "cell_type": "code",
   "execution_count": 173,
   "metadata": {},
   "outputs": [],
   "source": [
    "from dataclasses import dataclass\n",
    "from typing import List        \n",
    "\n",
    "\n",
    "@dataclass\n",
    "class MonkeyDef:\n",
    "    id: int\n",
    "    items: List\n",
    "    operation: str\n",
    "    divisible_by: int\n",
    "    target_monkey_true: int\n",
    "    target_monkey_false: int\n",
    "\n",
    "class Monkey:\n",
    "    def __init__(self, monkey_def):\n",
    "        self.monkey_def : MonkeyDef = monkey_def\n",
    "        self.nb_inspected = 0\n",
    "\n",
    "    def __repr__(self):\n",
    "        return f'Monkey {self.monkey_def.id}: {\",\".join((str(monkey_id) for monkey_id in self.monkey_def.items))} (nb_inspected: {self.nb_inspected})'\n",
    "\n",
    "    def inspect_and_throw_2(self, monkeys, mod):\n",
    "        while self.monkey_def.items:\n",
    "            item = self.monkey_def.items.pop(0)\n",
    "            self.nb_inspected += 1\n",
    "            item = self.run_operation(item)\n",
    "            item %= mod\n",
    "            #item.value = item.value // 3\n",
    "            self.throw(item, monkeys)\n",
    "\n",
    "    def inspect_and_throw_1(self, monkeys, mod):\n",
    "        while self.monkey_def.items:\n",
    "            item = self.monkey_def.items.pop(0)\n",
    "            self.nb_inspected += 1\n",
    "            item = self.run_operation(item)\n",
    "            item.value = item.value // 3\n",
    "            self.throw(item, monkeys)\n",
    "\n",
    "    def throw(self, item, monkeys):\n",
    "        if item % self.monkey_def.divisible_by == 0:\n",
    "            monkeys[self.monkey_def.target_monkey_true].receive(item)\n",
    "        else:\n",
    "            monkeys[self.monkey_def.target_monkey_false].receive(item)\n",
    "\n",
    "    def receive(self, item):\n",
    "        self.monkey_def.items.append(item)\n",
    "\n",
    "    def run_operation(self, old):\n",
    "        return eval(self.monkey_def.operation)\n",
    "        \n",
    "\n",
    "def read_monkey_def(f):\n",
    "    # Monkey 0:\n",
    "    # Starting items: 79, 98\n",
    "    # Operation: new = old * 19\n",
    "    # Test: divisible by 23\n",
    "    #     If true: throw to monkey 2\n",
    "    #     If false: throw to monkey 3\n",
    "    monkey_id = f.readline().rstrip(':\\r\\n').split(' ')[-1]\n",
    "    if not monkey_id:\n",
    "        return None\n",
    "    items = f.readline().rstrip('\\r\\n')[len('  Starting items: '):].split(', ')\n",
    "    operation = f.readline().rstrip('\\r\\n')[len('  Operation: new = '):]\n",
    "    divisibility_by = f.readline().rstrip('\\r\\n')[len('  Test: divisible by '):]\n",
    "    target_monkey_true = f.readline().rstrip('\\r\\n')[len('    If true: throw to monkey '):]\n",
    "    target_monkey_false = f.readline().rstrip('\\r\\n')[len('    If false: throw to monkey '):]\n",
    "    empty_line = f.readline()\n",
    "    return MonkeyDef(\n",
    "        int(monkey_id),\n",
    "        [int(it) for it in items if it],\n",
    "        operation,\n",
    "        int(divisibility_by),\n",
    "        int(target_monkey_true),\n",
    "        int(target_monkey_false)\n",
    "    )\n",
    "\n",
    "monkeys = {}\n",
    "with open('../day11.txt') as f:\n",
    "    while True:\n",
    "        monkey_def = read_monkey_def(f)\n",
    "        if not monkey_def:\n",
    "            break\n",
    "        monkeys[monkey_def.id] = Monkey(monkey_def)"
   ]
  },
  {
   "cell_type": "code",
   "execution_count": 174,
   "metadata": {},
   "outputs": [
    {
     "name": "stdout",
     "output_type": "stream",
     "text": [
      "Monkey 0: 73,77 (nb_inspected: 0)\n",
      "Monkey 1: 57,88,80 (nb_inspected: 0)\n",
      "Monkey 2: 61,81,84,69,77,88 (nb_inspected: 0)\n",
      "Monkey 3: 78,89,71,60,81,84,87,75 (nb_inspected: 0)\n",
      "Monkey 4: 60,76,90,63,86,87,89 (nb_inspected: 0)\n",
      "Monkey 5: 88 (nb_inspected: 0)\n",
      "Monkey 6: 84,98,78,85 (nb_inspected: 0)\n",
      "Monkey 7: 98,89,78,73,71 (nb_inspected: 0)\n"
     ]
    }
   ],
   "source": [
    "def show_monkeys(monkeys):\n",
    "    for m in monkeys.values():\n",
    "        print(m)\n",
    "show_monkeys(monkeys)"
   ]
  },
  {
   "cell_type": "code",
   "execution_count": 176,
   "metadata": {},
   "outputs": [],
   "source": [
    "mod = 1\n",
    "for monkey in monkeys.values():\n",
    "    mod *= monkey.monkey_def.divisible_by\n",
    "\n",
    "\n",
    "for round in range(10000):\n",
    "    for i in range(len(monkeys)):\n",
    "        monkeys[i].inspect_and_throw_2(monkeys, mod)\n"
   ]
  },
  {
   "cell_type": "code",
   "execution_count": 179,
   "metadata": {},
   "outputs": [
    {
     "name": "stdout",
     "output_type": "stream",
     "text": [
      "Monkey 0: 8592799,1729763,269957,5021627,2115137,5177087,7056637,4290587,2840797,2840797,2840797,4934197,7171897,2283647,1718557,4703077 (nb_inspected: 157153)\n",
      "Monkey 1:  (nb_inspected: 20273)\n",
      "Monkey 2: 5341595,4851975,5052235 (nb_inspected: 32346)\n",
      "Monkey 3: 1729756,6740740,4165240,5021620,2485090,1426860,8475390,192720,5603440,8191500,6486060,568150,568150,4934190,4934190 (nb_inspected: 146040)\n",
      "Monkey 4: 806871,3222010 (nb_inspected: 20475)\n",
      "Monkey 5:  (nb_inspected: 148006)\n",
      "Monkey 6:  (nb_inspected: 14077)\n",
      "Monkey 7:  (nb_inspected: 155193)\n"
     ]
    }
   ],
   "source": [
    "show_monkeys(monkeys)"
   ]
  },
  {
   "cell_type": "code",
   "execution_count": 178,
   "metadata": {},
   "outputs": [
    {
     "data": {
      "text/plain": [
       "24389045529"
      ]
     },
     "execution_count": 178,
     "metadata": {},
     "output_type": "execute_result"
    }
   ],
   "source": [
    "monkeys_list = sorted(monkeys.values(), key=lambda x: x.nb_inspected)\n",
    "monkeys_list[-1].nb_inspected*monkeys_list[-2].nb_inspected"
   ]
  },
  {
   "cell_type": "code",
   "execution_count": null,
   "metadata": {},
   "outputs": [],
   "source": []
  }
 ],
 "metadata": {
  "kernelspec": {
   "display_name": "Python 3.9.5 ('env')",
   "language": "python",
   "name": "python3"
  },
  "language_info": {
   "codemirror_mode": {
    "name": "ipython",
    "version": 3
   },
   "file_extension": ".py",
   "mimetype": "text/x-python",
   "name": "python",
   "nbconvert_exporter": "python",
   "pygments_lexer": "ipython3",
   "version": "3.9.5"
  },
  "orig_nbformat": 4,
  "vscode": {
   "interpreter": {
    "hash": "e5f0dee52dea0dc91edc544c8eee2cdf5b4489d19031128095f68e7dd121069b"
   }
  }
 },
 "nbformat": 4,
 "nbformat_minor": 2
}
