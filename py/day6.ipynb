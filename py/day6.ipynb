{
 "cells": [
  {
   "cell_type": "code",
   "execution_count": 7,
   "metadata": {},
   "outputs": [
    {
     "name": "stdout",
     "output_type": "stream",
     "text": [
      "2980\n",
      "fzbmvjlsrdcgnw\n"
     ]
    }
   ],
   "source": [
    "with open('../day6.txt') as f:\n",
    "    l = f.readline().rstrip('\\r\\n')\n",
    "\n",
    "    min = 0\n",
    "    max = 14\n",
    "\n",
    "    while max <= len(l):\n",
    "        char_counter = {}\n",
    "        for i in range(min, max):\n",
    "            if l[i] in char_counter:\n",
    "                min = char_counter[l[i]] + 1\n",
    "                break\n",
    "            char_counter[l[i]] = i\n",
    "        else:\n",
    "            print(min+14)\n",
    "            print(l[min:max])\n",
    "            break\n",
    "        max = min + 14\n"
   ]
  },
  {
   "cell_type": "code",
   "execution_count": null,
   "metadata": {},
   "outputs": [],
   "source": [
    "for x in range(m):\n",
    "    for y in range(p):\n",
    "        for i in range(n):\n",
    "            res[x][y] = M1[x][i]*M2[i][y]\n",
    "\n",
    "C = m x p x n\n"
   ]
  }
 ],
 "metadata": {
  "kernelspec": {
   "display_name": "Python 3.9.5 ('env')",
   "language": "python",
   "name": "python3"
  },
  "language_info": {
   "codemirror_mode": {
    "name": "ipython",
    "version": 3
   },
   "file_extension": ".py",
   "mimetype": "text/x-python",
   "name": "python",
   "nbconvert_exporter": "python",
   "pygments_lexer": "ipython3",
   "version": "3.9.5"
  },
  "orig_nbformat": 4,
  "vscode": {
   "interpreter": {
    "hash": "e5f0dee52dea0dc91edc544c8eee2cdf5b4489d19031128095f68e7dd121069b"
   }
  }
 },
 "nbformat": 4,
 "nbformat_minor": 2
}
