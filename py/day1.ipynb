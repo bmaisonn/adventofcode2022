{
 "cells": [
  {
   "cell_type": "code",
   "execution_count": 5,
   "metadata": {},
   "outputs": [],
   "source": [
    "from lib.utils import iter_file\n"
   ]
  },
  {
   "cell_type": "markdown",
   "metadata": {},
   "source": [
    "### part 1"
   ]
  },
  {
   "cell_type": "code",
   "execution_count": 49,
   "metadata": {},
   "outputs": [
    {
     "data": {
      "text/plain": [
       "68442"
      ]
     },
     "execution_count": 49,
     "metadata": {},
     "output_type": "execute_result"
    }
   ],
   "source": [
    "max_elf_count = 0\n",
    "curr_sum = 0\n",
    "for l in iter_file():\n",
    "    if not l:\n",
    "        max_elf_count = max(curr_sum, max_elf_count)\n",
    "        curr_sum = 0\n",
    "    else:\n",
    "        curr_sum += int(l)\n",
    "max_elf_count"
   ]
  },
  {
   "cell_type": "markdown",
   "metadata": {},
   "source": [
    "### part 2"
   ]
  },
  {
   "cell_type": "code",
   "execution_count": 4,
   "metadata": {},
   "outputs": [],
   "source": [
    "\n",
    "def insert_count(count, max_elf_counts):\n",
    "    for idx, count in enumerate(max_elf_counts):\n",
    "        if curr_sum < count:\n",
    "            max_elf_counts.insert(idx, curr_sum)\n",
    "            break\n",
    "    else:\n",
    "        max_elf_counts.append(curr_sum)\n",
    "    if len(max_elf_counts) > 3:\n",
    "        max_elf_counts.popleft()"
   ]
  },
  {
   "cell_type": "code",
   "execution_count": 5,
   "metadata": {},
   "outputs": [
    {
     "data": {
      "text/plain": [
       "204837"
      ]
     },
     "execution_count": 5,
     "metadata": {},
     "output_type": "execute_result"
    }
   ],
   "source": [
    "from collections import deque\n",
    "\n",
    "max_elf_counts = deque([0, 0, 0])\n",
    "curr_sum = 0\n",
    "for l in iter_file():\n",
    "    if not l:\n",
    "        insert_count(curr_sum, max_elf_counts)\n",
    "        curr_sum = 0\n",
    "        \n",
    "    else:\n",
    "        curr_sum += int(l)\n",
    "insert_count(curr_sum, max_elf_counts)\n",
    "sum(max_elf_counts)"
   ]
  },
  {
   "cell_type": "code",
   "execution_count": null,
   "metadata": {},
   "outputs": [],
   "source": []
  }
 ],
 "metadata": {
  "kernelspec": {
   "display_name": "Python 3.9.5 ('env')",
   "language": "python",
   "name": "python3"
  },
  "language_info": {
   "codemirror_mode": {
    "name": "ipython",
    "version": 3
   },
   "file_extension": ".py",
   "mimetype": "text/x-python",
   "name": "python",
   "nbconvert_exporter": "python",
   "pygments_lexer": "ipython3",
   "version": "3.9.5"
  },
  "orig_nbformat": 4,
  "vscode": {
   "interpreter": {
    "hash": "e5f0dee52dea0dc91edc544c8eee2cdf5b4489d19031128095f68e7dd121069b"
   }
  }
 },
 "nbformat": 4,
 "nbformat_minor": 2
}
