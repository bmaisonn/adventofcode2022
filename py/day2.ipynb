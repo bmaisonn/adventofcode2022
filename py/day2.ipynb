{
 "cells": [
  {
   "cell_type": "code",
   "execution_count": 6,
   "metadata": {},
   "outputs": [
    {
     "name": "stdout",
     "output_type": "stream",
     "text": [
      "12535\n"
     ]
    }
   ],
   "source": [
    "from lib.utils import iter_file\n",
    "\n",
    "\n",
    "# A:Rock\n",
    "# B:Paper\n",
    "# C: Scissors\n",
    "\n",
    "# X:Rock\n",
    "# Y:Paper\n",
    "# Z:Scissors\n",
    "\n",
    "WINNING = {\n",
    "    'A': 'Y',\n",
    "    'B': 'Z',\n",
    "    'C': 'X',\n",
    "}\n",
    "\n",
    "LOOSE = {\n",
    "    'A': 'Z',\n",
    "    'B': 'X',\n",
    "    'C': 'Y',\n",
    "}\n",
    "\n",
    "def my_rank(me):\n",
    "    ord_me = ord(me)\n",
    "    return ord_me - ord('X')\n",
    "\n",
    "def oppenent_rank(oppenent):\n",
    "    ord_oppenent = ord(oppenent)\n",
    "    return ord_oppenent - ord('A')\n",
    "\n",
    "def compute_score(oppenent, me):\n",
    "    rank_me = my_rank(me)\n",
    "    score = rank_me + 1\n",
    "\n",
    "    rank_oppenent = oppenent_rank(oppenent)\n",
    "\n",
    "    if rank_oppenent == rank_me:\n",
    "        score += 3\n",
    "    elif ((me == 'X' and oppenent == 'C') or\n",
    "          (me == 'Y' and oppenent == 'A') or\n",
    "          (me == 'Z' and oppenent == 'B')):\n",
    "        score += 6\n",
    "    #print(score)\n",
    "    return score \n",
    "\n",
    "total_score = 0\n",
    "for l in iter_file('../day2.txt'):\n",
    "    oppenent, me = l.split(' ')\n",
    "    total_score = total_score + compute_score(oppenent, me)\n",
    "\n",
    "print(total_score)"
   ]
  },
  {
   "cell_type": "code",
   "execution_count": 8,
   "metadata": {},
   "outputs": [
    {
     "name": "stdout",
     "output_type": "stream",
     "text": [
      "12\n"
     ]
    }
   ],
   "source": [
    "\n",
    "\n",
    "# X:LOOSE\n",
    "# Y:DRAW\n",
    "# Z:WIN\n",
    "\n",
    "total_score = 0\n",
    "for l in iter_file('../day2_sample.txt'):\n",
    "    oppenent, event = l.split(' ')\n",
    "    if event == 'X':\n",
    "        me = LOOSE[oppenent]\n",
    "    elif event == 'Y':\n",
    "        rank = oppenent_rank(oppenent)\n",
    "        me = chr(ord('X') + rank)\n",
    "    else:\n",
    "        me = WINNING[oppenent]\n",
    "    total_score = total_score + compute_score(oppenent, me)\n",
    "\n",
    "print(total_score)"
   ]
  },
  {
   "cell_type": "code",
   "execution_count": null,
   "metadata": {},
   "outputs": [],
   "source": []
  }
 ],
 "metadata": {
  "kernelspec": {
   "display_name": "Python 3.9.5 ('env')",
   "language": "python",
   "name": "python3"
  },
  "language_info": {
   "codemirror_mode": {
    "name": "ipython",
    "version": 3
   },
   "file_extension": ".py",
   "mimetype": "text/x-python",
   "name": "python",
   "nbconvert_exporter": "python",
   "pygments_lexer": "ipython3",
   "version": "3.9.5"
  },
  "orig_nbformat": 4,
  "vscode": {
   "interpreter": {
    "hash": "e5f0dee52dea0dc91edc544c8eee2cdf5b4489d19031128095f68e7dd121069b"
   }
  }
 },
 "nbformat": 4,
 "nbformat_minor": 2
}
